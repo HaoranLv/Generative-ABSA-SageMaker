{
 "cells": [
  {
   "cell_type": "markdown",
   "id": "62a63f97",
   "metadata": {},
   "source": [
    "# 数据处理"
   ]
  },
  {
   "cell_type": "code",
   "execution_count": 1,
   "id": "f236a0c2",
   "metadata": {},
   "outputs": [],
   "source": [
    "import pandas as pd\n",
    "import re\n",
    "import numpy as np\n",
    "from collections import Counter\n",
    "from utils import *\n",
    "from imblearn import over_sampling\n",
    "from sklearn.model_selection import train_test_split\n",
    "from sklearn.preprocessing import  MultiLabelBinarizer,LabelBinarizer\n",
    "import emoji"
   ]
  },
  {
   "cell_type": "markdown",
   "id": "6304ed96",
   "metadata": {},
   "source": [
    "## 数据清洗1：把所有的表情换成xx"
   ]
  },
  {
   "cell_type": "code",
   "execution_count": 2,
   "id": "2a349d0b",
   "metadata": {},
   "outputs": [],
   "source": [
    "df=pd.read_csv('data/ctrip/data1119.csv')\n",
    "df['reviews'] = df['reviews'].map(lambda x: filter_emoji(x,restr='xx'))\n",
    "write_txt(df,path='data/ctrip/total1119.txt')"
   ]
  },
  {
   "cell_type": "markdown",
   "id": "6cf25226",
   "metadata": {},
   "source": [
    "## 数据清洗2：保留所有表情转而更正所有index"
   ]
  },
  {
   "cell_type": "code",
   "execution_count": 33,
   "id": "564330ff",
   "metadata": {},
   "outputs": [],
   "source": [
    "df=pd.read_csv('data/ctrip/data1119.csv')\n",
    "df['aspect_opinion_list']=df.apply(lambda x:correct_idx(x.reviews,x.aspect_opinion_list),axis=1)\n",
    "df.to_csv('data/ctrip/1119clean.csv',index=False)\n",
    "false=clean('data/ctrip/1119clean.csv')\n",
    "write_txt2(df,false)"
   ]
  },
  {
   "cell_type": "markdown",
   "id": "72d211e5",
   "metadata": {},
   "source": [
    "## 训练集和测试集划分"
   ]
  },
  {
   "cell_type": "code",
   "execution_count": 3,
   "id": "abf9bb1c",
   "metadata": {},
   "outputs": [],
   "source": [
    "write_train_test(train_path='data/ctrip/train.txt',test_path='data/ctrip/test.txt',root='data/ctrip/total1119.txt')"
   ]
  },
  {
   "cell_type": "code",
   "execution_count": 4,
   "id": "38a28dd7",
   "metadata": {},
   "outputs": [
    {
     "name": "stdout",
     "output_type": "stream",
     "text": [
      "17757\n",
      "4440\n",
      "22197\n"
     ]
    }
   ],
   "source": [
    "a=read_txt('data/ctrip/train.txt')\n",
    "print(len(a))\n",
    "a=read_txt('data/ctrip/test.txt')\n",
    "print(len(a))\n",
    "a=read_txt('data/ctrip/total1119.txt')\n",
    "print(len(a))"
   ]
  },
  {
   "cell_type": "code",
   "execution_count": 6,
   "id": "0eeeff79",
   "metadata": {},
   "outputs": [],
   "source": [
    "!mkdir -p ./data/tasd-cn/ctrip\n",
    "!cp data/ctrip/train.txt data/ctrip/test.txt ./data/tasd-cn/ctrip/\n",
    "!cp data/ctrip/test.txt ./data/tasd-cn/ctrip/dev.txt"
   ]
  },
  {
   "cell_type": "markdown",
   "id": "163166c0",
   "metadata": {},
   "source": [
    "## 抽取式数据处理过程"
   ]
  },
  {
   "cell_type": "code",
   "execution_count": 3,
   "id": "e3ca39c4",
   "metadata": {},
   "outputs": [
    {
     "name": "stdout",
     "output_type": "stream",
     "text": [
      "[['[Screen|positive|awesome]', 'is', 'awesome', ',', '[battery', 'life|positive|good]', 'is', 'good', '.']]\n"
     ]
    }
   ],
   "source": [
    "sents, labels=['Screen is awesome , battery life is good .'],[[([0], [2], 'POS'), ([4, 5], [7], 'POS')]]\n",
    "sents[0]=sents[0].split(' ')\n",
    "a=get_annotated_aste_targets(sents, labels)\n",
    "print(a)"
   ]
  },
  {
   "cell_type": "markdown",
   "id": "87bd8ca9",
   "metadata": {},
   "source": [
    "## 数据均衡（重采样）"
   ]
  },
  {
   "cell_type": "code",
   "execution_count": 37,
   "id": "3f2cf702",
   "metadata": {},
   "outputs": [
    {
     "name": "stdout",
     "output_type": "stream",
     "text": [
      "Total examples = 17757\n"
     ]
    }
   ],
   "source": [
    "sents,lab,total=read_line_examples_from_file('./data/tasd-cn/ctrip/train.txt')"
   ]
  },
  {
   "cell_type": "code",
   "execution_count": 44,
   "id": "405e3739",
   "metadata": {},
   "outputs": [
    {
     "name": "stdout",
     "output_type": "stream",
     "text": [
      "(20020, 1)\n"
     ]
    }
   ],
   "source": [
    "dic,num=cal_rate(lab)\n",
    "keys=list(dic.keys())\n",
    "# x,y=build_xy(total,lab)\n",
    "x,labs=build_xy(total,lab)\n",
    "x=np.array(x)\n",
    "x=x.reshape((-1,1))\n",
    "print(x.shape)\n",
    "y=[]\n",
    "for i in labs:\n",
    "    y.append(keys.index(i))"
   ]
  },
  {
   "cell_type": "code",
   "execution_count": 46,
   "id": "40a5ac67",
   "metadata": {},
   "outputs": [
    {
     "data": {
      "text/plain": [
       "(613190, 1)"
      ]
     },
     "execution_count": 46,
     "metadata": {},
     "output_type": "execute_result"
    }
   ],
   "source": [
    "ros = over_sampling.RandomOverSampler(random_state=0)\n",
    "X_resampled, y_resampled = ros.fit_resample(x, y)\n",
    "# sorted(Counter(y_resampled).items())\n",
    "X_resampled.shape"
   ]
  },
  {
   "cell_type": "code",
   "execution_count": 56,
   "id": "d69ac3bc",
   "metadata": {},
   "outputs": [],
   "source": [
    "write_txt(X_resampled)"
   ]
  },
  {
   "cell_type": "markdown",
   "id": "24b369b7",
   "metadata": {},
   "source": [
    "## endpoint调用"
   ]
  },
  {
   "cell_type": "code",
   "execution_count": 3,
   "id": "b07a5c4b",
   "metadata": {},
   "outputs": [
    {
     "name": "stdout",
     "output_type": "stream",
     "text": [
      "{'result': '(小孩早餐, 儿童餐饮, 送了点👍, 正)', 'infer_time': '0:00:00.725859'}\n"
     ]
    }
   ],
   "source": [
    "\n",
    "from boto3.session import Session\n",
    "import json\n",
    "# df=pd.read_csv('./data/hp/summary/news_summary_cleaned_small_test.csv')\n",
    "# print('原文:',df.loc[0,'text'])\n",
    "# print('真实标签:',df.loc[0,'headlines'])\n",
    "data={\"data\": '早餐一般般，勉勉强强填饱肚子，样式可选性不多，可能是疫情的影响吧。不过酒店的服务不错，五个小孩早餐都送了，点👍。由于酒店历史有点长，所以设施感觉一般般，整体还可以，三钻吧'}\n",
    "session = Session()\n",
    "    \n",
    "runtime = session.client(\"runtime.sagemaker\")\n",
    "response = runtime.invoke_endpoint(\n",
    "    EndpointName='absa',\n",
    "    ContentType=\"application/json\",\n",
    "    Body=json.dumps(data),\n",
    ")\n",
    "\n",
    "result = json.loads(response[\"Body\"].read())\n",
    "print (result)"
   ]
  },
  {
   "cell_type": "code",
   "execution_count": null,
   "id": "46200878",
   "metadata": {},
   "outputs": [],
   "source": []
  }
 ],
 "metadata": {
  "interpreter": {
   "hash": "56ecb08db8188dc145b69eb5bd242994e76300b244bbcde07f075d37e01b813d"
  },
  "kernelspec": {
   "display_name": "conda_pytorch_p37",
   "language": "python",
   "name": "python3"
  },
  "language_info": {
   "codemirror_mode": {
    "name": "ipython",
    "version": 3
   },
   "file_extension": ".py",
   "mimetype": "text/x-python",
   "name": "python",
   "nbconvert_exporter": "python",
   "pygments_lexer": "ipython3",
   "version": "3.8.3"
  }
 },
 "nbformat": 4,
 "nbformat_minor": 5
}
