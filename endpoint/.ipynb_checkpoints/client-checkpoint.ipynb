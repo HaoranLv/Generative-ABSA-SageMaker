{
 "cells": [
  {
   "cell_type": "code",
   "execution_count": 12,
   "metadata": {},
   "outputs": [
    {
     "name": "stdout",
     "output_type": "stream",
     "text": [
      "{'status': 'Healthy'}\n"
     ]
    }
   ],
   "source": [
    "!curl http://localhost:5000/ping "
   ]
  },
  {
   "cell_type": "code",
   "execution_count": 14,
   "metadata": {},
   "outputs": [
    {
     "name": "stdout",
     "output_type": "stream",
     "text": [
      "{\"result\": \"[SEP] [CLS] 《 半 導 體 》 2019 / 02 / 11 10 : 28 時 報 資 訊 【 時 報 記 者 沈 培 華 台 北 報 導 導 致 ， 世 界 先 進 去 年 營 運 創 歷 史 新 高 ， 每 股 純 益 達 3. 72 元 。 但 對 今 季 展 [SEP]\", \"infer_time\": \"0:00:03.360859\"}\n",
      "CPU times: user 6.29 ms, sys: 179 µs, total: 6.47 ms\n",
      "Wall time: 3.37 s\n"
     ]
    }
   ],
   "source": [
    "%%time\n",
    "# curl\n",
    "import requests\n",
    "import json\n",
    "\n",
    "url='http://localhost:5000/invocations'\n",
    "data={\"data\": \"《半導體》Q1展望保守，世界垂淚2019/02/11 10:28時報資訊【時報記者沈培華台北報導】世界先進 (5347) 去年營運創歷史新高，每股純益達3.72元。但對今年首季展望保守，預計營收將比上季高點減近一成。世界先進於封關前股價拉高，今早則是開平走低。世界先進於年前台股封關後舉行法說會公布財報。公司去年營運表現亮麗，營收與獲利同創歷史新高紀錄。2018年全年營收289.28億元，年增16.1%，毛利率35.2%，拉升3.2個百分點，稅後淨利61.66億元，年增36.9%，營收與獲利同創歷史新高，每股純益3.72元。董事會通過去年度擬配發現金股利3.2元。展望第一季，受到客戶進入庫存調整，公司預期，本季營收估在67億至71億元，將季減8%至13%，毛利率將約34.5%至36.5%。此外，因應客戶需求，世界先進決定斥資2.36億美元，收購格芯新加坡8吋晶圓廠。世界先進於年前宣布，將購買格芯位於新加坡Tampines的8吋晶圓3E廠房、廠務設施、機器設備及微機電(MEMS)智財權與業務，交易總金額2.36億美元，交割日訂108年12月31日。格芯晶圓3E廠現有月產能3.5萬片8吋晶圓，世界先進每年將可增加超過40萬片8吋晶圓產能，增進公司明年起業績成長動能。TOP關閉\"}\n",
    "data = json.dumps(data)\n",
    "r = requests.post(url,data=data)\n",
    "\n",
    "#show result\n",
    "print (r.text)"
   ]
  },
  {
   "cell_type": "code",
   "execution_count": 47,
   "metadata": {},
   "outputs": [
    {
     "name": "stdout",
     "output_type": "stream",
     "text": [
      "CPU times: user 4 µs, sys: 1 µs, total: 5 µs\n",
      "Wall time: 9.3 µs\n"
     ]
    }
   ],
   "source": [
    "%%time \n",
    "\n",
    "def infer(input_image):\n",
    "    from boto3.session import Session\n",
    "    import json\n",
    "\n",
    "    bucket = 'spot-bot-asset'\n",
    "    image_uri = input_image\n",
    "    test_data = {\n",
    "        'bucket' : bucket,\n",
    "        'image_uri' : image_uri,\n",
    "        'content_type': \"application/json\",\n",
    "    }\n",
    "    payload = json.dumps(test_data)\n",
    "\n",
    "\n",
    "    session = Session()\n",
    "\n",
    "    runtime = session.client(\"runtime.sagemaker\")\n",
    "    response = runtime.invoke_endpoint(\n",
    "        EndpointName='esd-crnn',\n",
    "        ContentType=\"application/json\",\n",
    "        Body=payload)\n",
    "\n",
    "    result = json.loads(response[\"Body\"].read())\n",
    "    print (result)"
   ]
  },
  {
   "cell_type": "code",
   "execution_count": 51,
   "metadata": {},
   "outputs": [
    {
     "name": "stdout",
     "output_type": "stream",
     "text": [
      "{'result': 'Hﺋ\\ue82cﺥ'}\n",
      "{'result': '粜秽ｌ分行名耨'}\n",
      "{'result': '粜秽ｌ分行名耨'}\n",
      "{'result': '粜秽ｌ分行名耨'}\n",
      "{'result': '粜秽ｌ分行名耨'}\n",
      "{'result': '粜秽ｌ分行名耨'}\n",
      "[None, None, None, None, None, None]\n",
      "CPU times: user 24.6 ms, sys: 17.9 ms, total: 42.5 ms\n",
      "Wall time: 3.91 s\n"
     ]
    }
   ],
   "source": [
    "%%time \n",
    "import multiprocessing as mul\n",
    "\n",
    "pool = mul.Pool(5)\n",
    "rel = pool.map(infer, ['end/test2.jpg','end/test.jpg','end/test2.jpg','end/test2.jpg','end/test2.jpg','end/test2.jpg'])\n",
    "print(rel)"
   ]
  },
  {
   "cell_type": "code",
   "execution_count": 50,
   "metadata": {},
   "outputs": [
    {
     "name": "stdout",
     "output_type": "stream",
     "text": [
      "{'result': '粜秽ｌ分行名耨'}\n",
      "[None]\n",
      "CPU times: user 7.21 ms, sys: 23.6 ms, total: 30.8 ms\n",
      "Wall time: 1.74 s\n"
     ]
    }
   ],
   "source": [
    "%%time \n",
    "import multiprocessing as mul\n",
    "\n",
    "pool = mul.Pool(5)\n",
    "rel = pool.map(infer, ['end/test2.jpg'])\n",
    "print(rel)"
   ]
  },
  {
   "cell_type": "code",
   "execution_count": null,
   "metadata": {},
   "outputs": [],
   "source": []
  }
 ],
 "metadata": {
  "kernelspec": {
   "display_name": "conda_pytorch_latest_p36",
   "language": "python",
   "name": "conda_pytorch_latest_p36"
  },
  "language_info": {
   "codemirror_mode": {
    "name": "ipython",
    "version": 3
   },
   "file_extension": ".py",
   "mimetype": "text/x-python",
   "name": "python",
   "nbconvert_exporter": "python",
   "pygments_lexer": "ipython3",
   "version": "3.6.13"
  }
 },
 "nbformat": 4,
 "nbformat_minor": 4
}
